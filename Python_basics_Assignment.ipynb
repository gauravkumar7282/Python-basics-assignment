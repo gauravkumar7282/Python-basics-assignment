{
  "nbformat": 4,
  "nbformat_minor": 0,
  "metadata": {
    "colab": {
      "provenance": []
    },
    "kernelspec": {
      "name": "python3",
      "display_name": "Python 3"
    },
    "language_info": {
      "name": "python"
    }
  },
  "cells": [
    {
      "cell_type": "markdown",
      "source": [
        "Q1. What is Python, and why is it popular?\n",
        "- Python is a high level programming language which is use for interact with computer.\n",
        "- It is a formal language for creating instruction for a computer to follow.\n",
        "\n",
        "**Why it is popular?**\n",
        "- This language is so popular because it is easy to learn and read.\n",
        "- It is widely used in the industry (mostly in data industry).\n",
        "- It have lots of libraries available.\n",
        "- It is used as many way such as : Fronted, Backend, Data Analysis, Automation, Image processing, etc.\n",
        "- It have huge active community.\n",
        "\n",
        "Q2. What is an interpreter in Python?\n",
        "- It is translator that convert our code in computer understanding language.\n",
        "- It also check our code line by line for Execution.\n",
        "\n",
        "Q3. What are pre-defined keywords in Python?\n",
        "- The predefine words can hold a special meaning and have some specific purpose.\n",
        "- We can get every keyword by code\n",
        "      { help('key words')}.\n",
        "\n",
        "Q4. Can keywords be used as variable names?\n",
        "- Yes, Keyword can be used as a variable name by assigning it as a string.\n",
        "\n",
        "Q5. What is mutability in Python?\n",
        "- Mutablity in Python means the value which is assign can be modify after creation.\n",
        "- The mutable variables are :- Lists, Sets and Dictionaries.\n",
        "\n",
        "Q6 Why are lists are  mutable, but tuples are immutable?\n",
        "- Lists are mutable because it can be changed after creation, And tuples are immutable because it can't be changed after creation. If you want to make changes in tuples you have to create new one.\n",
        "\n",
        "Q7. What is the difference between “==” and “is” operators in Python?\n",
        "- \"==\" its stand for (is equal to =) and its mean that the value is equal.\n",
        "- \"is\" it means the value is available in object.\n",
        "\n",
        "Q8. What are logical operators in Python?\n",
        "- There are two types of logical operators : 'AND' and 'OR'.\n",
        "- 'AND' if the both value is True then it return value as True, ANd if the any of the value is False it returns False.\n",
        "- 'OR' if the both value is False then it return value as False, ANd if the any of the value is True it returns True.\n",
        "\n",
        "Q9. What is type casting in Python?\n",
        "- The process of changing data type of the value/object is known as type casting.\n",
        "- It is used because of mismatch between the data type of value.\n",
        "\n",
        "Q10. What is the difference between implicit and explicit type casting?\n",
        "- Implicit Type casting: The Data type that can be uderstand or can be execute without changing it data type is known as imlicit type casting.\n",
        "- Explicit Type casting: The data type that cannot be understand or can't be execute without changing its data type is known as explicit type casting.\n",
        "\n",
        "Q11. What is the purpose of conditional statements in Python?\n",
        "- The purpose of contitional statement is to help you to add condition to the code to take decision based on precondition.\n",
        "- the conditional statement used to take decision on different level such as: single condition, multiple condition and on something else.\n",
        "- There are four type of conditional statement : (if, if else, if elif, nested else if)\n",
        "\n",
        "Q12. How does the elif statement work?\n",
        "- The elif statement required when you have more than two condition.\n",
        "- It use to apply multiple condition.\n",
        "- Syntax:-\n",
        "if (condition):\n",
        "  (block of code)\n",
        "elif(condition):\n",
        "  (block of code)\n",
        "else(condition):\n",
        "  (block of code)\n",
        "\n",
        "Q13. What is the difference between for and while loops?\n",
        "- **For loop** :- it repeat a process or a set of instruction over a sequence of element.\n",
        "- syntax :- for variable in sequence:\n",
        "              (block of code)\n",
        "- **While loop** :- Repeatdy executed a block of code until a condition is met.\n",
        "- syntax:- While condition:\n",
        "          execute block of code.\n",
        "\n",
        "Q14.  Describe a scenario where a while loop is more suitable than a for loop.\n",
        "- While loop is more suitable in the scenario in which there is no fixed number of range, It execute the code until the condition is true."
      ],
      "metadata": {
        "id": "0LdabSCCk4wg"
      }
    },
    {
      "cell_type": "code",
      "source": [
        "# Write a Python program to print \"Hello, World!\"\n",
        "\n",
        "print(\"Hello, World!\")\n",
        "\n"
      ],
      "metadata": {
        "colab": {
          "base_uri": "https://localhost:8080/"
        },
        "id": "6IbRxHPRrP4A",
        "outputId": "fd227a89-dfef-4a3d-eeb7-dcc49ee83082"
      },
      "execution_count": 1,
      "outputs": [
        {
          "output_type": "stream",
          "name": "stdout",
          "text": [
            "Hello, World!\n"
          ]
        }
      ]
    },
    {
      "cell_type": "code",
      "source": [
        "# Write a Python program that displays your name and age.\n",
        "\n",
        "name= input(\"Enter your name :\")\n",
        "age= int(input(\"Enter your age :\"))\n",
        "print(\"Name :\",name)\n",
        "print(\"Age :\",age)"
      ],
      "metadata": {
        "colab": {
          "base_uri": "https://localhost:8080/"
        },
        "id": "IkHH9ty4refA",
        "outputId": "b2d4d76b-fa97-4c7c-fb9e-b3ccff65ac05"
      },
      "execution_count": 2,
      "outputs": [
        {
          "output_type": "stream",
          "name": "stdout",
          "text": [
            "Enter your name :Gaurav Kumar\n",
            "Enter your age :20\n",
            "Name : Gaurav Kumar\n",
            "Age : 20\n"
          ]
        }
      ]
    },
    {
      "cell_type": "code",
      "source": [
        "# Write code to print all the pre-defined keywords in Python using the keyword library.\n",
        "help('keywords')"
      ],
      "metadata": {
        "colab": {
          "base_uri": "https://localhost:8080/"
        },
        "id": "11d-Ss9bsLZ-",
        "outputId": "54bde395-54e0-41f9-96ed-39561d260798"
      },
      "execution_count": 5,
      "outputs": [
        {
          "output_type": "stream",
          "name": "stdout",
          "text": [
            "\n",
            "Here is a list of the Python keywords.  Enter any keyword to get more help.\n",
            "\n",
            "False               class               from                or\n",
            "None                continue            global              pass\n",
            "True                def                 if                  raise\n",
            "and                 del                 import              return\n",
            "as                  elif                in                  try\n",
            "assert              else                is                  while\n",
            "async               except              lambda              with\n",
            "await               finally             nonlocal            yield\n",
            "break               for                 not                 \n",
            "\n"
          ]
        }
      ]
    },
    {
      "cell_type": "code",
      "source": [
        "# Write a program that checks if a given word is a Python keyword."
      ],
      "metadata": {
        "id": "vFMRufMwsZZQ"
      },
      "execution_count": 6,
      "outputs": []
    },
    {
      "cell_type": "code",
      "source": [
        "# Create a list and tuple in Python, and demonstrate how attempting to change an element works differently\n",
        "# for each.\n",
        "#Create a list\n",
        "my_list = [1, 2, 3, 4, 5,]\n",
        "print(\"Origional list :\",my_list)\n",
        "my_list[4]=8\n",
        "print(\"My new list\", my_list)\n",
        "# create a tuple\n",
        "my_tuple = (1, 2, 3, 4, 5,)\n",
        "print(\"Origional tuple :\",my_tuple)\n",
        "try:\n",
        "  my_tuple[4]=8\n",
        "  print(\"My new tuple\", my_tuple)"
      ],
      "metadata": {
        "colab": {
          "base_uri": "https://localhost:8080/",
          "height": 106
        },
        "id": "fWw0o9NmstRx",
        "outputId": "1c1a1d57-3a60-4447-bbfe-3b72423c6a75"
      },
      "execution_count": 14,
      "outputs": [
        {
          "output_type": "error",
          "ename": "SyntaxError",
          "evalue": "incomplete input (ipython-input-14-4200085464.py, line 13)",
          "traceback": [
            "\u001b[0;36m  File \u001b[0;32m\"/tmp/ipython-input-14-4200085464.py\"\u001b[0;36m, line \u001b[0;32m13\u001b[0m\n\u001b[0;31m    print(\"My new tuple\", my_tuple)\u001b[0m\n\u001b[0m                                   ^\u001b[0m\n\u001b[0;31mSyntaxError\u001b[0m\u001b[0;31m:\u001b[0m incomplete input\n"
          ]
        }
      ]
    },
    {
      "cell_type": "code",
      "source": [
        "# Write a function to demonstrate the behavior of mutable and immutable arguments.\n"
      ],
      "metadata": {
        "id": "uhnS--WptceK"
      },
      "execution_count": 15,
      "outputs": []
    },
    {
      "cell_type": "code",
      "source": [
        "# Write a program that performs basic arithmetic operations on two user-input numbers.\n",
        "a = int(input(\"Enter first no. :\"))\n",
        "b = int(input(\"Enter second no. :\"))\n",
        "sum = (a + b)\n",
        "print(sum)\n",
        "sub = (a - b)\n",
        "print(sub)\n",
        "mult = (a * b)\n",
        "print(mult)\n",
        "div = (a / b)\n",
        "print(div)\n"
      ],
      "metadata": {
        "colab": {
          "base_uri": "https://localhost:8080/"
        },
        "id": "x3PNTvXdvEW1",
        "outputId": "8e4f5630-709a-4870-ade7-7dad09691aae"
      },
      "execution_count": 20,
      "outputs": [
        {
          "output_type": "stream",
          "name": "stdout",
          "text": [
            "Enter first no. :25\n",
            "Enter second no. :5\n",
            "30\n",
            "20\n",
            "125\n",
            "5.0\n"
          ]
        }
      ]
    },
    {
      "cell_type": "code",
      "source": [
        "# Write a program to demonstrate the use of logical operators.\n",
        "x = int(input(\"Enter first no. :\"))\n",
        "y = int(input(\"Enter second no. :\"))\n",
        "value = (x < 10 & y < 10)\n",
        "print(value)\n",
        "value = (x < 10 | y < 10)\n",
        "print(value)"
      ],
      "metadata": {
        "colab": {
          "base_uri": "https://localhost:8080/"
        },
        "id": "sXK8FUR5vrVs",
        "outputId": "e87f120b-b3d4-45ce-f9b8-3456ba7c4c9e"
      },
      "execution_count": 27,
      "outputs": [
        {
          "output_type": "stream",
          "name": "stdout",
          "text": [
            "Enter first no. :8\n",
            "Enter second no. :12\n",
            "False\n",
            "False\n"
          ]
        }
      ]
    },
    {
      "cell_type": "code",
      "source": [
        "# Write a Python program to convert user input from string to integer, float, and boolean types.\n",
        "\n",
        "a = input(\"Enter any number :\")\n",
        "print(type(a))\n",
        "a = int(a)\n",
        "print(type(a))\n",
        "a = float(a)\n",
        "print(type(a))\n",
        "a = bool(a)\n",
        "print(type(a))\n"
      ],
      "metadata": {
        "colab": {
          "base_uri": "https://localhost:8080/"
        },
        "id": "8GmASXzfxbnn",
        "outputId": "cef66b2e-d402-4488-a587-e82b01ae0e04"
      },
      "execution_count": 28,
      "outputs": [
        {
          "output_type": "stream",
          "name": "stdout",
          "text": [
            "Enter any number :5\n",
            "<class 'str'>\n",
            "<class 'int'>\n",
            "<class 'float'>\n",
            "<class 'bool'>\n"
          ]
        }
      ]
    },
    {
      "cell_type": "code",
      "source": [
        "# Write code to demonstrate type casting with list elements.\n",
        "my_list = [1, 2, 3, 4, 5,]\n",
        "print(\"Origional list :\",my_list)\n",
        "my_list[4]=8\n",
        "print(\"My new list\", my_list)"
      ],
      "metadata": {
        "colab": {
          "base_uri": "https://localhost:8080/"
        },
        "id": "hg45EPSv0T8I",
        "outputId": "85c3a443-ad25-4989-8900-4433f57df01b"
      },
      "execution_count": 29,
      "outputs": [
        {
          "output_type": "stream",
          "name": "stdout",
          "text": [
            "Origional list : [1, 2, 3, 4, 5]\n",
            "My new list [1, 2, 3, 4, 8]\n"
          ]
        }
      ]
    },
    {
      "cell_type": "code",
      "source": [
        "#  Write a program that checks if a number is positive, negative, or zero.\n",
        "\n",
        "a = int(input(\"Enter any number :\"))\n",
        "if a > 0:\n",
        "  print(\"Number is positive\")\n",
        "elif a < 0:\n",
        "  print(\"Number is negative\")\n",
        "else:\n",
        "  print(\"Number is zero\")"
      ],
      "metadata": {
        "colab": {
          "base_uri": "https://localhost:8080/"
        },
        "id": "ycrWSd4s0kRG",
        "outputId": "71088e8d-cb1f-4f14-907d-2cc789df3e7c"
      },
      "execution_count": 30,
      "outputs": [
        {
          "output_type": "stream",
          "name": "stdout",
          "text": [
            "Enter any number :56\n",
            "Number is positive\n"
          ]
        }
      ]
    },
    {
      "cell_type": "code",
      "source": [
        "# Write a for loop to print numbers from 1 to 10.\n",
        "for i in range(1,11):\n",
        "  print(i)\n"
      ],
      "metadata": {
        "colab": {
          "base_uri": "https://localhost:8080/"
        },
        "id": "axN6idqb010e",
        "outputId": "bb1ffc9e-5db7-4edc-97c5-19b9850cac45"
      },
      "execution_count": 31,
      "outputs": [
        {
          "output_type": "stream",
          "name": "stdout",
          "text": [
            "1\n",
            "2\n",
            "3\n",
            "4\n",
            "5\n",
            "6\n",
            "7\n",
            "8\n",
            "9\n",
            "10\n"
          ]
        }
      ]
    },
    {
      "cell_type": "code",
      "source": [
        "# Write a Python program to find the sum of all even numbers between 1 and 50.\n",
        "for i in range(1,51):\n",
        "  if i%2 != 0:\n",
        "    continue\n",
        "  print(i)\n",
        "sum = (sum of i)\n",
        "print(sum)"
      ],
      "metadata": {
        "colab": {
          "base_uri": "https://localhost:8080/",
          "height": 106
        },
        "id": "lzKm7Eu01hg6",
        "outputId": "a4fe5cee-d78a-4ea1-a2ca-257e6d12a235"
      },
      "execution_count": 32,
      "outputs": [
        {
          "output_type": "error",
          "ename": "SyntaxError",
          "evalue": "invalid syntax. Perhaps you forgot a comma? (ipython-input-32-3783906872.py, line 6)",
          "traceback": [
            "\u001b[0;36m  File \u001b[0;32m\"/tmp/ipython-input-32-3783906872.py\"\u001b[0;36m, line \u001b[0;32m6\u001b[0m\n\u001b[0;31m    sum = (sum of i)\u001b[0m\n\u001b[0m           ^\u001b[0m\n\u001b[0;31mSyntaxError\u001b[0m\u001b[0;31m:\u001b[0m invalid syntax. Perhaps you forgot a comma?\n"
          ]
        }
      ]
    },
    {
      "cell_type": "code",
      "source": [
        "# Write a program to reverse a string using a while loop."
      ],
      "metadata": {
        "id": "9EjDUeOp3DAA"
      },
      "execution_count": null,
      "outputs": []
    },
    {
      "cell_type": "code",
      "source": [
        "# Write a Python program to calculate the factorial of a number provided by the user using a while loop."
      ],
      "metadata": {
        "id": "RS4BAuSf4Mbm"
      },
      "execution_count": null,
      "outputs": []
    }
  ]
}